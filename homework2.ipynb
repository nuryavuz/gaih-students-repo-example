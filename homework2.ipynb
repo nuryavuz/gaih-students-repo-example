{
  "nbformat": 4,
  "nbformat_minor": 0,
  "metadata": {
    "colab": {
      "name": "Untitled3.ipynb",
      "provenance": [],
      "collapsed_sections": [],
      "authorship_tag": "ABX9TyNuldk0VyTbIK5JrCYwuPCG",
      "include_colab_link": true
    },
    "kernelspec": {
      "name": "python3",
      "display_name": "Python 3"
    }
  },
  "cells": [
    {
      "cell_type": "markdown",
      "metadata": {
        "id": "view-in-github",
        "colab_type": "text"
      },
      "source": [
        "<a href=\"https://colab.research.google.com/github/nuryavuz/gaih-students-repo-example/blob/main/homework2.ipynb\" target=\"_parent\"><img src=\"https://colab.research.google.com/assets/colab-badge.svg\" alt=\"Open In Colab\"/></a>"
      ]
    },
    {
      "cell_type": "code",
      "metadata": {
        "colab": {
          "base_uri": "https://localhost:8080/"
        },
        "id": "wF86HIy1WvzN",
        "outputId": "1fd8e1b0-ff6a-4eff-91f5-ff790dfacef6"
      },
      "source": [
        "ögrenciler = []\r\n",
        "notlar = []\r\n",
        "for i in range(5):\r\n",
        "  ad = input(\"isminizi giriniz: \")\r\n",
        "  ögrenciler.append(ad)\r\n",
        "  \r\n",
        "  midterm = int(input(\"midterm notunuzu giriziz: \"))\r\n",
        "  final = int(input(\"final notunuzu giriniz: \"))\r\n",
        "  homework = int(input(\"homework notunuzu giriniz: \"))\r\n",
        "  ortalama = (midterm+final+homework)/3\r\n",
        "  notlar.append(ortalama)\r\n",
        "  \r\n",
        "liste1 = ögrenciler\r\n",
        "liste2 = notlar\r\n",
        "sozluk = {}\r\n",
        "for i in range(5):\r\n",
        "  sozluk[liste1[i]] = liste2[i]\r\n",
        "sozluk = {k: v for k, v in sorted(sozluk.items(), key=lambda item: item[1], reverse=True)}\r\n",
        "print(\"Tebrikler \" + list(sozluk.keys())[0])\r\n"
      ],
      "execution_count": 2,
      "outputs": [
        {
          "output_type": "stream",
          "text": [
            "isminizi giriniz: ali\n",
            "midterm notunuzu giriziz: 10\n",
            "final notunuzu giriniz: 10\n",
            "homework notunuzu giriniz: 10\n",
            "isminizi giriniz: veli\n",
            "midterm notunuzu giriziz: 20\n",
            "final notunuzu giriniz: 20\n",
            "homework notunuzu giriniz: 20\n",
            "isminizi giriniz: hasan\n",
            "midterm notunuzu giriziz: 30\n",
            "final notunuzu giriniz: 30\n",
            "homework notunuzu giriniz: 30\n",
            "isminizi giriniz: hüseyin\n",
            "midterm notunuzu giriziz: 40\n",
            "final notunuzu giriniz: 40\n",
            "homework notunuzu giriniz: 40\n",
            "isminizi giriniz: fatma\n",
            "midterm notunuzu giriziz: 50\n",
            "final notunuzu giriniz: 50\n",
            "homework notunuzu giriniz: 50\n",
            "Tebriklerfatma\n"
          ],
          "name": "stdout"
        }
      ]
    },
    {
      "cell_type": "markdown",
      "metadata": {
        "id": "VL1SWyMGZl2V"
      },
      "source": [
        "# Yeni Bölüm"
      ]
    }
  ]
}