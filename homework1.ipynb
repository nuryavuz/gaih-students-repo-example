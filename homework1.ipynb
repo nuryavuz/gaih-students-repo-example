{
  "nbformat": 4,
  "nbformat_minor": 0,
  "metadata": {
    "colab": {
      "name": "homework1",
      "provenance": [],
      "collapsed_sections": [],
      "authorship_tag": "ABX9TyPiHb69JjnY34omxcNAvjgJ",
      "include_colab_link": true
    },
    "kernelspec": {
      "name": "python3",
      "display_name": "Python 3"
    }
  },
  "cells": [
    {
      "cell_type": "markdown",
      "metadata": {
        "id": "view-in-github",
        "colab_type": "text"
      },
      "source": [
        "<a href=\"https://colab.research.google.com/github/nuryavuz/gaih-students-repo-example/blob/main/homework1.ipynb\" target=\"_parent\"><img src=\"https://colab.research.google.com/assets/colab-badge.svg\" alt=\"Open In Colab\"/></a>"
      ]
    },
    {
      "cell_type": "code",
      "metadata": {
        "colab": {
          "base_uri": "https://localhost:8080/"
        },
        "id": "KwTsz0I3i_VZ",
        "outputId": "d5f8dcb9-68dd-4a38-bd94-7c9af9d8f43e"
      },
      "source": [
        "import random\r\n",
        "liste = []\r\n",
        "for j in range(1,100):\r\n",
        "  bolen_sayac = 0\r\n",
        "  for i in range(2,j):\r\n",
        "    if(j%i==0):\r\n",
        "      bolen_sayac +=1\r\n",
        "  if bolen_sayac==0:\r\n",
        "    liste.append(j)\r\n",
        "\r\n",
        "m1 = [[0 for x in range(3)] for y in range(3)]\r\n",
        "\r\n",
        "for i in range(3):\r\n",
        "  for j in range(3):\r\n",
        "    m1[i][j] = random.choice(liste)\r\n",
        "print(m1)\r\n",
        "\r\n",
        "\r\n"
      ],
      "execution_count": null,
      "outputs": [
        {
          "output_type": "stream",
          "text": [
            "[[3, 47, 29], [17, 3, 67], [29, 11, 37]]\n"
          ],
          "name": "stdout"
        }
      ]
    },
    {
      "cell_type": "code",
      "metadata": {
        "id": "cujSVGs_5kCP"
      },
      "source": [
        "()"
      ],
      "execution_count": null,
      "outputs": []
    }
  ]
}